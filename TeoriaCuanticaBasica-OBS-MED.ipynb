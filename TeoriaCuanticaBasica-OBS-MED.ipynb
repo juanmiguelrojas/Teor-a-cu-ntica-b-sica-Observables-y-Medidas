{
 "cells": [
  {
   "cell_type": "markdown",
   "id": "1b9eb707-7c83-4f97-ba13-0231912c8306",
   "metadata": {},
   "source": [
    "# TEORÍA CUÁNTICA BÁSICA, OBSERVABLES Y MEDIDAS\n",
    "\n",
    "## Primer sistema cuántico descrito en la sección 4.1.\n",
    "\n",
    "## 1. El sistema debe calcular la probabilidad de encontrarlo en una posición en particular."
   ]
  },
  {
   "cell_type": "code",
   "execution_count": 3,
   "id": "36c6338e-7e0a-49a2-b34d-d3c14cadcce9",
   "metadata": {},
   "outputs": [
    {
     "name": "stdout",
     "output_type": "stream",
     "text": [
      "La probabiliodad de encontrarlo en una posicion es:  [0.05263158]\n"
     ]
    }
   ],
   "source": [
    "import numpy as np\n",
    "def norma(vec):\n",
    "    norma = 0\n",
    "    for i in range(len(vec)):\n",
    "        n = abs(vec[i])**2\n",
    "        norma += n\n",
    "    return norma\n",
    "\n",
    "def probabilidad_pos(vec, pos):\n",
    "    norms = norma(v)\n",
    "    c = abs(v[pos])**2\n",
    "    return abs(c/norms)\n",
    "\n",
    "pos = 2\n",
    "vector = np.array([[-3-1j],[-2],[1j],[2]])\n",
    "print(\"La probabiliodad de encontrarlo en una posicion es: \", probabilidad_pos(vector , pos))"
   ]
  },
  {
   "cell_type": "markdown",
   "id": "e57c43d2-c915-4e44-96d8-7ffd835a92fc",
   "metadata": {},
   "source": [
    "# 2. El sistema si se le da otro vector Ket debe buscar la probabilidad de transitar del primer vector al segundo."
   ]
  },
  {
   "cell_type": "code",
   "execution_count": 2,
   "id": "59a3b269-cabf-4b42-a3f5-43556c45c906",
   "metadata": {},
   "outputs": [
    {
     "name": "stdout",
     "output_type": "stream",
     "text": [
      "la probabilidad de transitcion es:  0.9999999999999996\n"
     ]
    }
   ],
   "source": [
    "import numpy as np\n",
    "#Funcion para normalizar el vector\n",
    "def normalized(vec):\n",
    "    norma = np.linalg.norm(vec)\n",
    "    normalizado = vec / norma\n",
    "    return normalizado\n",
    "\n",
    "#Funciion para calcular la probabilidad de los vectores \n",
    "def probabilidad_transicion(vec1, vec2):\n",
    "    nvec1 = normalized(vec1)\n",
    "    nvec2 = normalized(vec2) \n",
    "    \n",
    "    inner = np.dot(nvec1, nvec2)\n",
    "    probabilidad = np.abs(inner) ** 2\n",
    "    return probabilidad\n",
    "\n",
    "ket1 = np.array([1, 1j])\n",
    "ket2 = np.array([1j, 1])\n",
    "print(\"la probabilidad de transitcion es: \",  probabilidad_transicion(ket1, ket2)) "
   ]
  },
  {
   "cell_type": "markdown",
   "id": "3a108f1a-df36-40c5-9104-19b2bca3b0e7",
   "metadata": {},
   "source": [
    "## Retos de programación del capítulo 4.\n",
    "\n",
    "# 1. Amplitud de transición. El sistema puede recibir dos vectores y calcular la probabilidad de transitar de el uno al otro después de hacer la observación\n",
    "\n"
   ]
  },
  {
   "cell_type": "code",
   "execution_count": 3,
   "id": "dbfa5cb4",
   "metadata": {},
   "outputs": [
    {
     "name": "stdout",
     "output_type": "stream",
     "text": [
      "la probabilidad de transitar de el uno al otro es:  0.9615384615384612\n"
     ]
    }
   ],
   "source": [
    "#Funcion q define la amplitud de transicion \n",
    "def amplitud(vec1, vec2):\n",
    "    nvec1 = normalized(vec1)\n",
    "    nvec2 = normalized(vec2) \n",
    "    \n",
    "    inner_product = np.dot(nvec1, nvec2)\n",
    "    probabilidad = np.abs(inner_product) ** 2\n",
    "    return probabilidad\n",
    "\n",
    "vec1 = np.array([1/2, 1/3])\n",
    "vec2 = np.array([1, 1])\n",
    "print(\"la probabilidad de transitar de el uno al otro es: \" , amplitud(vec1, vec2))"
   ]
  },
  {
   "cell_type": "markdown",
   "id": "915d0a0a",
   "metadata": {},
   "source": [
    "# 2. Ahora con una matriz que describa un observable y un vector ket, el sistema revisa que la matriz sea hermitiana, y si lo es, calcula la media y la varianza del observable en el estado dado."
   ]
  },
  {
   "cell_type": "code",
   "execution_count": 6,
   "id": "e9985ea9",
   "metadata": {},
   "outputs": [
    {
     "name": "stdout",
     "output_type": "stream",
     "text": [
      "La media del observable es: 0.5000000000000001\n",
      "La varianza del observable es: [-0.19444444 -0.19444444]\n"
     ]
    }
   ],
   "source": [
    "def hermitiana(matriz):\n",
    "    return np.allclose(matriz, matriz.conj().T)\n",
    "\n",
    "def media(obs, ket):\n",
    "\n",
    "    v1 = ket.conj().T\n",
    "    v2 = np.dot(obs, ket)\n",
    "    media = np.dot(v1, v2).real\n",
    "    return media\n",
    "\n",
    "def variance(obs, ket):\n",
    "     v1 = ket.conj().T\n",
    "     v2 = np.dot(obs, ket)\n",
    "     variance = np.dot(v1, v2).real\n",
    "     return variance - media(vec1, vec2) ** 2\n",
    "   \n",
    "obs = np.array([[1, -1j],[1j, 2]])\n",
    "ket = np.array([np.sqrt(2)/2, np.sqrt(2)/2j])\n",
    "\n",
    "\n",
    "if hermitiana(obs):\n",
    "    print(f\"La media del observable es: {media(obs, ket)}\")\n",
    "    print(f\"La varianza del observable es: {variance(obs, ket)}\")\n",
    "else:\n",
    "    print(\"No es hermitiana\")"
   ]
  },
  {
   "cell_type": "markdown",
   "id": "c1e37175",
   "metadata": {},
   "source": [
    "# 3. El sistema calcula los valores propios del observable y la probabilidad de que el sistema transite a alguno de los vectores propios después de la observación."
   ]
  },
  {
   "cell_type": "code",
   "execution_count": 7,
   "id": "8c9e6802",
   "metadata": {},
   "outputs": [
    {
     "name": "stdout",
     "output_type": "stream",
     "text": [
      "Eigenvalues: [-1.41421356+0.j  1.41421356+0.j]\n",
      "Eigenvectors:\n",
      " [[ 0.92387953+0.j         -0.        -0.38268343j]\n",
      " [-0.        -0.38268343j  0.92387953+0.j        ]]\n",
      "la probabilidad es [[0.5]\n",
      " [0.5]]\n"
     ]
    }
   ],
   "source": [
    "def eigenvalues(obs):\n",
    "    eigenvalues, eigenvectors = np.linalg.eig(obs)\n",
    "    \n",
    "    print(\"Eigenvalues:\", eigenvalues)\n",
    "    print(\"Eigenvectors:\\n\", eigenvectors)\n",
    "\n",
    "    return eigenvectors\n",
    "\n",
    "def probabilidad_obs(eigenvectors, ket):\n",
    "    ket_normal = normalized(ket)\n",
    "    probabilidad = abs(np.dot(eigenvectors.conj(), ket_normal)) ** 2\n",
    "    return probabilidad\n",
    "\n",
    "\n",
    "obs = np.array([[-1, -1j], [1j, 1]])\n",
    "ket = np.array([[1/2, 1/2]]).T\n",
    "eigenvectors = eigenvalues(obs)\n",
    "print(\"la probabilidad es\" , probabilidad_obs(eigenvectors, ket))"
   ]
  },
  {
   "cell_type": "markdown",
   "id": "e38a4bd5",
   "metadata": {},
   "source": [
    "# 4. Se considera la dinámica del sistema. Ahora con una serie de matrices Un el sistema calcula el estado final a partir de un estado inicial."
   ]
  },
  {
   "cell_type": "code",
   "execution_count": 8,
   "id": "4af699a8",
   "metadata": {},
   "outputs": [
    {
     "name": "stdout",
     "output_type": "stream",
     "text": [
      "Estado final = [0 1]\n"
     ]
    }
   ],
   "source": [
    "def estado_final(kinicial, matriz):\n",
    "    kfinal = kinicial\n",
    "    for m in matriz:\n",
    "        kfinal = np.dot(m, kfinal)\n",
    "    return kfinal\n",
    "\n",
    "\n",
    "kinicial = np.array([1,0])\n",
    "matrices = np.array([[1, 0], [0, 1]]), np.array([[0, 1], [1, 0]])\n",
    "print(f\"Estado final = {estado_final(kinicial, matrices)}\")"
   ]
  },
  {
   "cell_type": "markdown",
   "id": "a3145a8d",
   "metadata": {},
   "source": [
    "## Problemas como ejemplos\n",
    "\n",
    "# Problema 4.3.1"
   ]
  },
  {
   "cell_type": "code",
   "execution_count": null,
   "id": "ebb0593e",
   "metadata": {},
   "outputs": [],
   "source": [
    "Sx = (1/np.sqrt(2)) * np.array([[0,1], [1, 0]])\n",
    "initial_state = np.array([[1], [0]])\n",
    "final = np.dot(Sx, initial_state)\n",
    "\n",
    "ket1 = np.array([[1, 0]])\n",
    "ket2 = np.array([[0, 1]])\n",
    "spin_up = abs(np.dot(ket1, final)) ** 2 \n",
    "spin_down = abs(np.dot(ket2, final)) ** 2\n",
    "\n",
    "print(f\"Probabilidad spin_up: {spin_up}\")\n",
    "print(f\"Probabilidad spin_down: {spin_down}\")  "
   ]
  },
  {
   "cell_type": "markdown",
   "id": "4a35c116",
   "metadata": {},
   "source": [
    "# 4.3.2\n",
    "\n",
    "# Grafico de Barras"
   ]
  },
  {
   "cell_type": "code",
   "execution_count": 9,
   "id": "5146146c",
   "metadata": {},
   "outputs": [
    {
     "data": {
      "image/png": "[encoded data removed]",
      "text/plain": [
       "<Figure size 640x480 with 1 Axes>"
      ]
     },
     "metadata": {},
     "output_type": "display_data"
    }
   ],
   "source": [
    "import matplotlib.pyplot as plt\n",
    "\n",
    "# Datos\n",
    "Sx = (1/np.sqrt(2)) * np.array([[0,1], [1, 0]])\n",
    "initial_state = np.array([[1], [0]])\n",
    "final = np.dot(Sx, initial_state)\n",
    "\n",
    "eigenvalues, eigenvectors = np.linalg.eig(Sx)\n",
    "probability = probabilidad_obs(eigenvectors, final)\n",
    "\n",
    "# Crear el gráfico de barras\n",
    "plt.bar(range(len(eigenvalues)), probability.flatten())\n",
    "\n",
    "# Etiquetas y título\n",
    "plt.xlabel('eigenvalues')\n",
    "plt.ylabel('Probability')\n",
    "plt.title('Probability distribution of the eigenvalues')\n",
    "\n",
    "# Mostrar el gráfico\n",
    "plt.show()"
   ]
  },
  {
   "cell_type": "markdown",
   "id": "22908e20-9e48-474b-97fa-77c83ae951ca",
   "metadata": {},
   "source": [
    "# 4.4.1"
   ]
  },
  {
   "cell_type": "code",
   "execution_count": 10,
   "id": "49f1e861",
   "metadata": {},
   "outputs": [
    {
     "name": "stdout",
     "output_type": "stream",
     "text": [
      "U1 es unitaria\n",
      "U2 es unitaria\n",
      "El prodcuto de U1 y U2 es unitarios\n"
     ]
    }
   ],
   "source": [
    "U1 = np.array([[0, 1], [1, 0]])\n",
    "U2 = np.array([[np.sqrt(2)/2, np.sqrt(2)/2], [np.sqrt(2)/2, -np.sqrt(2)/2]])\n",
    "m_identidad = np.identity(U1.shape[0])\n",
    "product = np.dot(U1, U2)\n",
    "\n",
    "check_U1 = np.allclose(np.dot(U1, U1.conj().T) , m_identidad)\n",
    "check_U2 = np.allclose(np.dot(U2, U2.conj().T) , m_identidad)\n",
    "check_product = np.allclose(np.dot(product, product.conj().T), m_identidad)\n",
    "\n",
    "if check_U1 == True:\n",
    "    print(\"U1 es unitaria\")\n",
    "else:\n",
    "    print(\"U1 No es unitaria\")\n",
    "if check_U2 == True:\n",
    "    print(\"U2 es unitaria\")\n",
    "else:\n",
    "    print(\"U2 No es unitaria\")\n",
    "if check_product:\n",
    "    print(\"El prodcuto de U1 y U2 es unitarios\")\n",
    "else:\n",
    "    print(\"El producto no es unitario\")"
   ]
  },
  {
   "cell_type": "markdown",
   "id": "a6065f27",
   "metadata": {},
   "source": [
    "# 4.4.2"
   ]
  },
  {
   "cell_type": "code",
   "execution_count": 12,
   "id": "f4850635",
   "metadata": {},
   "outputs": [
    {
     "name": "stdout",
     "output_type": "stream",
     "text": [
      "Estado luego de 3 momentos : \n",
      "[[ 0.        +0.j        ]\n",
      " [-0.70710678+0.70710678j]\n",
      " [ 0.        +0.j        ]\n",
      " [ 0.        +0.j        ]]\n",
      "la probabilidad de encontrar la pelota cuantica en la posicion 3 es: [0.]\n"
     ]
    }
   ],
   "source": [
    "A = np.array([[0  ,1/np.sqrt(2)  ,1/np.sqrt(2)  ,0], \n",
    "              [1j/np.sqrt(2),0   ,0  ,1/np.sqrt(2)], \n",
    "              [1/np.sqrt(2)  ,0  ,0  ,1j/np.sqrt(2)],\n",
    "              [0  ,1/np.sqrt(2)  ,-1/np.sqrt(2)  ,0]])\n",
    "\n",
    "initial_state = np.array([[1], [0], [0], [0]])\n",
    "after_one_step = np.dot(A, initial_state )\n",
    "after_two_step = np.dot(A, after_one_step )\n",
    "after_three_step = np.dot(A, after_two_step )\n",
    "\n",
    "print(f\"Estado luego de 3 momentos : \")\n",
    "print(after_three_step)\n",
    "print(f\"la probabilidad de encontrar la pelota cuantica en la posicion 3 es: {abs(after_three_step[2])}\")"
   ]
  },
  {
   "cell_type": "markdown",
   "id": "7bd8f9db",
   "metadata": {},
   "source": [
    "# 4.5.2"
   ]
  },
  {
   "cell_type": "code",
   "execution_count": 2,
   "id": "9449e0cf",
   "metadata": {},
   "outputs": [
    {
     "ename": "SyntaxError",
     "evalue": "invalid non-printable character U+00A0 (3205425484.py, line 52)",
     "output_type": "error",
     "traceback": [
      "\u001b[1;36m  Cell \u001b[1;32mIn[2], line 52\u001b[1;36m\u001b[0m\n\u001b[1;33m    print(\"Estado de Bell |Φ+>:\", bell_state)\u001b[0m\n\u001b[1;37m                                 ^\u001b[0m\n\u001b[1;31mSyntaxError\u001b[0m\u001b[1;31m:\u001b[0m invalid non-printable character U+00A0\n"
     ]
    }
   ],
   "source": [
    "import numpy as np\n",
    "\n",
    "# Estados base de una partícula con spin-1/2\n",
    "zero = np.array([1, 0])  # |0> estado (spin up)\n",
    "one = np.array([0, 1])   # |1> estado (spin down)\n",
    "\n",
    "print(\"Estado |0>:\", zero)\n",
    "print(\"Estado |1>:\", one)\n",
    "\n",
    "# Producto tensorial de dos partículas (spin-1/2)\n",
    "def tensor_product(state1, state2):\n",
    "    return np.kron(state1, state2)\n",
    "\n",
    "# Crear los estados para dos partículas\n",
    "state_00 = tensor_product(zero, zero)  # |00>\n",
    "state_01 = tensor_product(zero, one)   # |01>\n",
    "state_10 = tensor_product(one, zero)   # |10>\n",
    "state_11 = tensor_product(one, one)    # |11>\n",
    "\n",
    "print(\"Estado |00>:\", state_00)\n",
    "print(\"Estado |01>:\", state_01)\n",
    "print(\"Estado |10>:\", state_10)\n",
    "print(\"Estado |11>:\", state_11)\n",
    "\n",
    "# Coeficientes complejos para un estado generalizado\n",
    "alpha_00 = 1/np.sqrt(2)\n",
    "alpha_01 = 0\n",
    "alpha_10 = 0\n",
    "alpha_11 = 1/np.sqrt(2)\n",
    "\n",
    "# Estado cuántico generalizado para dos partículas\n",
    "general_state = alpha_00 * state_00 + alpha_11 * state_11\n",
    "\n",
    "print(\"Estado cuántico generalizado:\", general_state)\n",
    "\n",
    "# Producto tensorial de n partículas\n",
    "def n_particle_tensor_product(states):\n",
    "    result = states[0]\n",
    "    for state in states[1:]:\n",
    "        result = tensor_product(result, state)\n",
    "    return result\n",
    "\n",
    "# Crear un estado cuántico para 3 partículas, por ejemplo |0>|1>|0>\n",
    "n_states = [zero, one, zero]\n",
    "n_particle_state = n_particle_tensor_product(n_states)\n",
    "\n",
    "print(\"Estado cuántico para 3 partículas (|0>|1>|0>):\", n_particle_state)\n",
    "\n",
    "# Estado entrelazado de Bell (|Φ+> = 1/sqrt(2) * (|00> + |11>))\n",
    "bell_state = (1/np.sqrt(2)) * (state_00 + state_11)\n",
    "\n",
    "print(\"Estado de Bell |Φ+>:\", bell_state)"
   ]
  },
  {
   "cell_type": "markdown",
   "id": "0526a37e",
   "metadata": {},
   "source": [
    "# 4.5.3"
   ]
  },
  {
   "cell_type": "code",
   "execution_count": 1,
   "id": "da9002b6",
   "metadata": {},
   "outputs": [
    {
     "ename": "ModuleNotFoundError",
     "evalue": "No module named 'numpy'",
     "output_type": "error",
     "traceback": [
      "\u001b[1;31m---------------------------------------------------------------------------\u001b[0m",
      "\u001b[1;31mModuleNotFoundError\u001b[0m                       Traceback (most recent call last)",
      "Cell \u001b[1;32mIn[1], line 1\u001b[0m\n\u001b[1;32m----> 1\u001b[0m \u001b[38;5;28;01mimport\u001b[39;00m \u001b[38;5;21;01mnumpy\u001b[39;00m \u001b[38;5;28;01mas\u001b[39;00m \u001b[38;5;21;01mnp\u001b[39;00m\n\u001b[0;32m      3\u001b[0m \u001b[38;5;66;03m# Define the spin basis vectors for up and down states\u001b[39;00m\n\u001b[0;32m      4\u001b[0m up \u001b[38;5;241m=\u001b[39m np\u001b[38;5;241m.\u001b[39marray([\u001b[38;5;241m1\u001b[39m, \u001b[38;5;241m0\u001b[39m])    \u001b[38;5;66;03m# |↑>\u001b[39;00m\n",
      "\u001b[1;31mModuleNotFoundError\u001b[0m: No module named 'numpy'"
     ]
    }
   ],
   "source": [
    "import numpy as np\n",
    "\n",
    "# Define the spin basis vectors for up and down states\n",
    "up = np.array([1, 0])    # |↑>\n",
    "down = np.array([0, 1])  # |↓>\n",
    "\n",
    "# Tensor product function\n",
    "def tensor_product(state1, state2):\n",
    "    return np.kron(state1, state2)\n",
    "\n",
    "# Create the entangled Bell state (|ψ> = (|↑L↓R> + |↓L↑R>)/√2)\n",
    "bell_state = (1/np.sqrt(2)) * (tensor_product(up, down) + tensor_product(down, up))\n",
    "\n",
    "# Print the Bell state\n",
    "print(\"Entangled Bell state |ψ>:\\n\", bell_state)\n"
   ]
  }
 ],
 "metadata": {
  "kernelspec": {
   "display_name": "Python 3",
   "language": "python",
   "name": "python3"
  },
  "language_info": {
   "codemirror_mode": {
    "name": "ipython",
    "version": 3
   },
   "file_extension": ".py",
   "mimetype": "text/x-python",
   "name": "python",
   "nbconvert_exporter": "python",
   "pygments_lexer": "ipython3",
   "version": "3.11.9"
  }
 },
 "nbformat": 4,
 "nbformat_minor": 5
}
